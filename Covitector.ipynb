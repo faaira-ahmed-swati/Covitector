{
  "cells": [
    {
      "cell_type": "markdown",
      "metadata": {
        "id": "QBkU1Z6435go"
      },
      "source": [
        "# In order to start on this project, please download the data set from\n",
        "# https://zenodo.org/record/4048312#.YDjKw-oo9H5"
      ]
    },
    {
      "cell_type": "markdown",
      "metadata": {
        "id": "vJPcXPJXFwfd"
      },
      "source": [
        "#Iteration 2"
      ]
    },
    {
      "cell_type": "markdown",
      "metadata": {
        "id": "Uq2Utco3L6Ck"
      },
      "source": [
        "#Libraries"
      ]
    },
    {
      "cell_type": "code",
      "execution_count": 1,
      "metadata": {
        "id": "QgRhENX9LI25",
        "colab": {
          "base_uri": "https://localhost:8080/"
        },
        "outputId": "737914e0-0914-48e8-aad3-b514b6dcce1e"
      },
      "outputs": [
        {
          "output_type": "stream",
          "name": "stdout",
          "text": [
            "Mounted at /content/drive\n"
          ]
        }
      ],
      "source": [
        "from google.colab import drive\n",
        "drive.mount('/content/drive')\n",
        "import os\n",
        "from functools import reduce\n",
        "from collections import Counter\n",
        "from keras.layers import *\n",
        "import numpy as np\n",
        "import pandas\n",
        "from sklearn.ensemble import VotingClassifier\n",
        "# import wavencoder\n",
        "import pickle\n",
        "# import librosa\n",
        "# import malaya_speech\n",
        "# from malaya_speech import Pipeline\n",
        "import matplotlib.pyplot as plt\n",
        "%matplotlib inline\n",
        "import seaborn as sns\n",
        "import IPython.display as ipd\n",
        "import tensorflow as tf\n",
        "from tensorflow import keras\n",
        "from tensorflow.keras import layers\n",
        "from keras.models import Sequential\n",
        "from keras.layers import Dense\n",
        "from keras.wrappers.scikit_learn import KerasClassifier\n",
        "from keras.layers import Dropout\n",
        "from keras.layers import Bidirectional\n",
        "from keras.layers import CuDNNLSTM\n",
        "from keras.layers import LSTM\n",
        "from tensorflow.keras.optimizers import Adam # - Works\n",
        "from keras.layers import Attention\n",
        "from keras.layers import Activation\n",
        "from keras.layers import ELU\n",
        "from keras.layers import TimeDistributed \n",
        "from keras import regularizers\n",
        "from keras import initializers\n",
        "from sklearn import preprocessing\n",
        "from sklearn.model_selection import train_test_split\n",
        "from sklearn.model_selection import cross_val_score\n",
        "from sklearn.preprocessing import LabelEncoder\n",
        "from sklearn.model_selection import StratifiedKFold\n",
        "from sklearn.preprocessing import StandardScaler\n",
        "from sklearn.pipeline import Pipeline\n",
        "from sklearn.metrics import f1_score\n",
        "from sklearn.metrics import recall_score\n",
        "from sklearn.metrics import accuracy_score\n",
        "from sklearn.metrics import confusion_matrix\n",
        "import torch\n",
        "import torch.nn as nn\n",
        "from imblearn.over_sampling import SMOTE, ADASYN, RandomOverSampler\n",
        "# import sklearn_relief as relief\n",
        "\n",
        "import tensorflow as tf\n",
        "import cv2\n",
        "import skimage.io\n",
        "from skimage.transform import resize\n",
        "from imgaug import augmenters as iaa\n",
        "from sklearn import preprocessing\n",
        "from sklearn.preprocessing import LabelBinarizer,LabelEncoder\n",
        "from sklearn.utils.class_weight import compute_class_weight\n",
        "from tensorflow.keras import layers\n",
        "from tensorflow.keras.layers import Input, Add, Dense, Dropout, Activation, ZeroPadding2D, BatchNormalization, Flatten, Conv2D, AveragePooling2D, MaxPooling2D, GlobalMaxPooling2D,GlobalAveragePooling2D,Concatenate, ReLU, LeakyReLU,Reshape, Lambda\n",
        "from tensorflow.keras.callbacks import ModelCheckpoint, LearningRateScheduler, EarlyStopping, ReduceLROnPlateau\n",
        "from tensorflow.keras.optimizers import Adam,SGD\n",
        "from tensorflow.keras.preprocessing.image import ImageDataGenerator\n",
        "from tensorflow.keras.models import Sequential, load_model, Model\n",
        "from tensorflow.keras.callbacks import LearningRateScheduler\n",
        "from tensorflow.keras.preprocessing import image\n",
        "from tensorflow.keras.utils import to_categorical\n",
        "from tensorflow.keras import metrics\n",
        "from tensorflow.keras.preprocessing import image\n",
        "from tensorflow.keras.applications.imagenet_utils import preprocess_input\n",
        "from tensorflow.keras.initializers import glorot_uniform\n",
        "from tqdm import tqdm\n",
        "import imgaug as ia\n",
        "from imgaug import augmenters as iaa\n",
        "from PIL import Image\n",
        "import keras.backend as K"
      ]
    },
    {
      "cell_type": "markdown",
      "source": [
        "#**Reading Data**"
      ],
      "metadata": {
        "id": "CaUaLzSHoJuE"
      }
    },
    {
      "cell_type": "code",
      "source": [
        "def getMFCCs(padding_length = 512, outliers = 500, reshape_length = 20):\n",
        "\n",
        "# convert a string of mfccs into floating points\n",
        "  def convertFloat(features):\n",
        "    feat = []\n",
        "    f = features.split(\",\")\n",
        "    for fe in f:\n",
        "      feat.append(float(fe))\n",
        "    return feat\n",
        "\n",
        "# split the string on the basis of delimeter\n",
        "  def Read_Split(mfccs):\n",
        "    features = mfccs.split('=')\n",
        "    feat = []\n",
        "    for feature in features:\n",
        "      feat.append(convertFloat(feature))\n",
        "    return feat\n",
        "\n",
        "# reading and splittting the mfccs\n",
        "  def readMFCCS():\n",
        "    file = open(\"/content/drive/My Drive/FYP/MFCCs.txt\", 'r').readlines()\n",
        "    mfccs = []\n",
        "    labels = []\n",
        "    input_files = []\n",
        "    for lines in file:\n",
        "      param = lines.split(\"|\")\n",
        "      input_files.append(param[0])\n",
        "      features = param[1]\n",
        "      lable = param[2][:-1]\n",
        "      mfccs.append(Read_Split(features))\n",
        "      if 'healthy' in lable:\n",
        "        labels.append(0)\n",
        "      else:\n",
        "        labels.append(1)\n",
        "      del lable\n",
        "      del param\n",
        "    return mfccs, labels, input_files\n",
        "# padding the mfccs to the padding_length that is initially set to 512\n",
        "  def pad(X, padding_length):\n",
        "    while len(X) != padding_length:\n",
        "      X.append(0.0)\n",
        "    return np.array(X)\n",
        "  def do_padding(mfcc, padding_length):\n",
        "    new_mfcc = []\n",
        "    for mf in mfcc:\n",
        "      new_mfcc.append(pad(mf, padding_length))\n",
        "    return np.array(new_mfcc)\n",
        "\n",
        "# return flattened np arrays \n",
        "  def getFlattened(X):\n",
        "    new_mfcc = []\n",
        "    for mfcc in X:\n",
        "      new_mfcc.append(np.array(mfcc).flatten().tolist())\n",
        "    return new_mfcc\n",
        "  \n",
        "\n",
        "# delete outliers, \n",
        "# first we sort the values and then the first N number of outliers and the last N \n",
        "# number of outliers are deleted\n",
        "  def deleteOutliers(newX, input_files ,X, y, outliers, reshape_length):\n",
        "    alpha = sorted(newX, key = len)\n",
        "    for i in range(0, outliers):\n",
        "      index = X.index(np.array(alpha[i]).reshape(reshape_length, -1).tolist())\n",
        "      del (X[index])\n",
        "      del (y[index])\n",
        "      del input_files[index]\n",
        "    for i in range(len(alpha)-outliers - 1 ,len(alpha)-1):\n",
        "      index = X.index(np.array(alpha[i]).reshape(reshape_length, -1).tolist())\n",
        "      del (X[index])\n",
        "      del (y[index])\n",
        "      del input_files[index]\n",
        "    return X, y\n",
        "\n",
        "  def applyPad(X, padding_length):\n",
        "    newX = []\n",
        "    for mfcc in X:\n",
        "      newX.append(do_padding(mfcc, padding_length).flatten())\n",
        "    return newX\n",
        "  def get_segmented(X):\n",
        "    newX = []\n",
        "    for mfcc in X:\n",
        "      newX.append(mfcc)\n",
        "    return newX\n",
        "\n",
        "  X, y, input_files = readMFCCS()\n",
        "  newX = getFlattened(X)\n",
        "  X, y = deleteOutliers(newX,input_files, X, y, outliers, reshape_length)\n",
        "  X = get_segmented(X)\n",
        "  X = applyPad(X, padding_length)\n",
        "  del newX\n",
        "  return X, y, input_files\n"
      ],
      "metadata": {
        "id": "P2kr3mulLxW2"
      },
      "execution_count": 2,
      "outputs": []
    },
    {
      "cell_type": "code",
      "execution_count": 3,
      "metadata": {
        "id": "8OwXPvt6uyRs"
      },
      "outputs": [],
      "source": [
        "def getSpecs(path):\n",
        "\n",
        "  def stringtofloat(s):\n",
        "    s_l = s.split('|')\n",
        "    string = s_l[0]\n",
        "    label = s_l[1]\n",
        "    del s_l\n",
        "    floating_points = string.split('_')\n",
        "    array = []\n",
        "    for fp in floating_points:\n",
        "      array.append(float(fp))\n",
        "    return array, label\n",
        "  def pad(X):\n",
        "    while len(X) != 512:\n",
        "      X.append(0.0)\n",
        "    return np.array(X)\n",
        "\n",
        "  def doPad(X):\n",
        "    newX = []\n",
        "    for xx in X:\n",
        "      newX.append(pad(xx))\n",
        "    return np.array(newX)\n",
        "  def readfeatures(path):\n",
        "    sp = open(path, 'r')\n",
        "    X = []\n",
        "    y = []\n",
        "    for lines in sp:\n",
        "      array, label = stringtofloat(lines)\n",
        "      X.append(array)\n",
        "      if \"healthy\" in label:\n",
        "        y.append(0)\n",
        "      else:\n",
        "        y.append(1)\n",
        "      del array\n",
        "      del label\n",
        "    return X, y\n",
        "  # Removing the bottom 100 and top 100 outliers. \n",
        "  # print(len(X), len(y))\n",
        "  def deleteOutliers(X, y):\n",
        "    alpha = sorted(X, key = len)\n",
        "    for i in range(0, 100):\n",
        "      index = X.index(alpha[i])\n",
        "      del (X[index])\n",
        "      del (y[index])\n",
        "    for i in range(len(alpha)- 101, len(alpha)- 1):\n",
        "      index = X.index(alpha[i])\n",
        "      del (X[index])\n",
        "      del (y[index])\n",
        "    del alpha\n",
        "    return X, y\n",
        "\n",
        "\n",
        "\n",
        "  X, y = readfeatures(path)\n",
        "  X, y = deleteOutliers(X, y)\n",
        "  X = doPad(X)\n",
        "\n",
        "  return X, y\n",
        "\n"
      ]
    },
    {
      "cell_type": "markdown",
      "metadata": {
        "id": "mpeDSKGwukib"
      },
      "source": [
        "***Apply Random Sampler first, and then SMOTE***"
      ]
    },
    {
      "cell_type": "code",
      "execution_count": 4,
      "metadata": {
        "id": "Xt5DUhbLwXOo"
      },
      "outputs": [],
      "source": [
        "def OverSampling(X, Y):\n",
        "  from imblearn.pipeline import Pipeline\n",
        "  smote = SMOTE()\n",
        "  randomSampler = RandomOverSampler()\n",
        "  pipeline = Pipeline([ ('randomSampler', randomSampler), ('smote', smote)])\n",
        "  return pipeline.fit_resample(X, Y)"
      ]
    },
    {
      "cell_type": "markdown",
      "source": [
        "*Getting Data*"
      ],
      "metadata": {
        "id": "bRtdBf9vo6Mb"
      }
    },
    {
      "cell_type": "code",
      "execution_count": 5,
      "metadata": {
        "id": "Y4ETvpDzJLit"
      },
      "outputs": [],
      "source": [
        "def getData(path, which):\n",
        "  if which == \"SC\":\n",
        "    x_shape = 8 \n",
        "    y_shape = 16 \n",
        "    z_shape = 4\n",
        "    X, y =getSpecs(path)\n",
        "  else:\n",
        "    x_shape = 160\n",
        "    y_shape = 16 \n",
        "    z_shape = 4\n",
        "    X, y, input_files = getMFCCs()\n",
        "  X = preprocessing.scale(preprocessing.normalize(X))\n",
        "  X_train, X_test, y_train, y_test = train_test_split(X, y, test_size=0.2, random_state=1)\n",
        "  X_train, X_val, y_train, y_val = train_test_split(X_train, y_train, test_size=0.30, random_state=1)\n",
        "  X_train, y_train  = OverSampling(X_train, y_train)\n",
        "  y_train = np.asarray(y_train)\n",
        "  y_val = np.asarray(y_val)\n",
        "  y_test = np.asarray(y_test)\n",
        "  X_train = np.reshape(X_train, (X_train.shape[0], x_shape, y_shape, z_shape))\n",
        "  X_val = np.reshape(X_val, (X_val.shape[0], x_shape, y_shape, z_shape))\n",
        "  X_test = np.reshape(X_test, (X_test.shape[0], x_shape, y_shape, z_shape))\n",
        "  return X_train, X_val, y_train, y_val, X_test, y_test, input_files, X"
      ]
    },
    {
      "cell_type": "markdown",
      "source": [
        "#Models\n"
      ],
      "metadata": {
        "id": "PYCmOfprnRWA"
      }
    },
    {
      "cell_type": "markdown",
      "source": [
        "##Resnet50"
      ],
      "metadata": {
        "id": "kee5S1pgs5Wn"
      }
    },
    {
      "cell_type": "code",
      "source": [
        "from tensorflow.keras.metrics import categorical_accuracy,top_k_categorical_accuracy\n",
        "def top_5_accuracy(y_true, y_pred):\n",
        "    return top_k_categorical_accuracy(y_true, y_pred, k=5)\n",
        "def identity_block(X, f, filters, layer_id, blockid):\n",
        "    \n",
        "    layer_name = 'res' + str(layer_id) + blockid + 'br'\n",
        "    bn_name_base = 'bn' + str(layer_id) + blockid + 'br'\n",
        "    \n",
        "    F1, F2, F3 = filters\n",
        "    \n",
        "    prev_X = X\n",
        "        \n",
        "    X = Conv2D(filters = F1, kernel_size = (1, 1), strides = (1,1), padding =\n",
        "               'valid', name = layer_name + 'identity_a', kernel_initializer = glorot_uniform(seed=0))(X)\n",
        "    X = BatchNormalization(axis = 3, name = bn_name_base + 'identity_a')(X)\n",
        "    X = Activation('relu')(X)\n",
        "        \n",
        "    X = Conv2D(filters = F2, kernel_size = (f, f), strides = (1,1), padding =\n",
        "               'same', name = layer_name + 'identity_b', kernel_initializer = glorot_uniform(seed=0))(X)\n",
        "    X = BatchNormalization(axis = 3, name = bn_name_base + 'identity_b')(X)\n",
        "    X = Activation('relu')(X)\n",
        "\n",
        "    X = Conv2D(filters = F3, kernel_size = (1, 1), strides = (1,1), padding =\n",
        "               'valid', name = layer_name + 'identity_c', kernel_initializer = glorot_uniform(seed=0))(X)\n",
        "    X = BatchNormalization(axis = 3, name = bn_name_base + 'identity_c')(X)\n",
        "\n",
        "    # Add shortcut value to main path\n",
        "    X = Add()([prev_X, X])\n",
        "    X = Activation('relu')(X)\n",
        "        \n",
        "    return X"
      ],
      "metadata": {
        "id": "qUGjzCs9weZZ"
      },
      "execution_count": 6,
      "outputs": []
    },
    {
      "cell_type": "code",
      "source": [
        "def convolutional_block(X, f, filters, layer_id, block_id, s = 2):\n",
        "        \n",
        "    layer_name = 'res' + str(layer_id) + block_id + 'br'\n",
        "    bn_name_base = 'bn' + str(layer_id) + block_id + 'br'\n",
        "    F1, F2, F3 = filters\n",
        "    prev_X = X\n",
        "    X = Conv2D(F1, (1, 1), strides = (s,s), name = layer_name + 'identity_a', kernel_initializer = glorot_uniform(seed=0))(X)\n",
        "    X = BatchNormalization(axis = 3, name = bn_name_base + 'identity_a')(X)\n",
        "    X = Activation('relu')(X)\n",
        "    X = Conv2D(filters = F2, kernel_size = (f, f), strides = (1,1), padding =\n",
        "               'same', name = layer_name + 'identity_b', kernel_initializer = glorot_uniform(seed=0))(X)\n",
        "    X = BatchNormalization(axis = 3, name = bn_name_base + 'identity_b')(X)\n",
        "    X = Activation('relu')(X)\n",
        "    X = Conv2D(filters = F3, kernel_size = (1, 1), strides = (1,1), padding =\n",
        "               'valid', name = layer_name + 'identity_c', kernel_initializer = glorot_uniform(seed=0))(X)\n",
        "    X = BatchNormalization(axis = 3, name = bn_name_base + 'identity_c')(X)\n",
        "    prev_X = Conv2D(filters = F3, kernel_size = (1, 1), strides = (s,s), padding =\n",
        "                        'valid', name = layer_name + '1', kernel_initializer = glorot_uniform(seed=0))(prev_X)\n",
        "    prev_X = BatchNormalization(axis = 3, name = bn_name_base + '1')(prev_X)\n",
        "    X = Add()([prev_X, X])\n",
        "    X = Activation('relu')(X)\n",
        "   \n",
        "    return X"
      ],
      "metadata": {
        "id": "PMB0XIw2wfmP"
      },
      "execution_count": 7,
      "outputs": []
    },
    {
      "cell_type": "code",
      "source": [
        "def ResNet50( classes, input_shape):\n",
        "    X_input = Input(input_shape)\n",
        "    \n",
        "    X = ZeroPadding2D((1, 1))(X_input)\n",
        "    # X._estimator_type = \"classifier\"\n",
        "    X = Conv2D(64, (7, 7), strides = (2, 2), name = 'conv1', kernel_initializer = glorot_uniform(seed=0))(X)\n",
        "    X = BatchNormalization(axis = 3, name = 'bn_conv1')(X)\n",
        "    X = Activation('relu')(X)\n",
        "    X = MaxPooling2D((3, 3), strides=(2, 2))(X)\n",
        "    X = convolutional_block(X, f = 3, filters = [64, 64, 256], stage = 2, block='a', s = 1)\n",
        "    X = identity_block(X, 3, [64, 64, 256], stage=2, block='b')\n",
        "    X = identity_block(X, 3, [64, 64, 256], stage=2, block='c')\n",
        "    X = convolutional_block(X, f = 3, filters = [128, 128, 512], stage = 3, block='a', s = 2)\n",
        "    X = identity_block(X, 3, [128, 128, 512], stage=3, block='b')\n",
        "    X = identity_block(X, 3, [128, 128, 512], stage=3, block='c')\n",
        "    X = identity_block(X, 3, [128, 128, 512], stage=3, block='d')\n",
        "    X = convolutional_block(X, f = 3, filters = [256, 256, 1024], stage = 4, block='a', s = 2)\n",
        "    X = identity_block(X, 3, [256, 256, 1024], stage=4, block='b')\n",
        "    X = identity_block(X, 3, [256, 256, 1024], stage=4, block='c')\n",
        "    X = identity_block(X, 3, [256, 256, 1024], stage=4, block='d')\n",
        "    X = identity_block(X, 3, [256, 256, 1024], stage=4, block='e')\n",
        "    X = identity_block(X, 3, [256, 256, 1024], stage=4, block='f')\n",
        "    X = convolutional_block(X, f = 3, filters = [512, 512, 2048], stage = 5, block='a', s = 2)\n",
        "    X = identity_block(X, 3, [512, 512, 2048], stage=5, block='b')\n",
        "    X = identity_block(X, 3, [512, 512, 2048], stage=5, block='c')\n",
        "    X = AveragePooling2D(pool_size=(1,1),name='avg_pool')(X)\n",
        "    X = Flatten()(X)\n",
        "    X = Dense(classes, activation='softmax', name='fc' + str(classes), kernel_initializer = glorot_uniform(seed=0))(X)\n",
        "    model = Model(inputs = X_input, outputs = X, name='ResNet50')\n",
        "    model.compile(optimizer='adam', loss='sparse_categorical_crossentropy', metrics=['accuracy',top_5_accuracy])\n",
        "\n",
        "    return model"
      ],
      "metadata": {
        "id": "9mYUYZx5wnI_"
      },
      "execution_count": 8,
      "outputs": []
    },
    {
      "cell_type": "markdown",
      "source": [
        "##Get Model 1"
      ],
      "metadata": {
        "id": "auPYRTtsRVKh"
      }
    },
    {
      "cell_type": "code",
      "source": [
        "def getModel1(input_shape):\n",
        "  model = Sequential()\n",
        "  model.add(Dense(256, activation='relu', input_dim = 10240))\n",
        "  model.add(Dense(64, activation='relu'))\n",
        "  model.add(Dense(1, activation = 'sigmoid'))\n",
        "  model.compile(loss = 'binary_crossentropy', optimizer= 'adam', metrics = ['acc'])\n",
        "  return model"
      ],
      "metadata": {
        "id": "QNITMeGiRXf7"
      },
      "execution_count": 9,
      "outputs": []
    },
    {
      "cell_type": "markdown",
      "source": [
        "##Get Model 2"
      ],
      "metadata": {
        "id": "j4YzFXJRRPAA"
      }
    },
    {
      "cell_type": "code",
      "source": [
        "def getModel2(input_shape):\n",
        "  model = Sequential()\n",
        "  model.add(Dense(256, activation='relu', input_dim = 10240))\n",
        "  model.add(Dropout(0.2))\n",
        "  model.add(Dense(64, activation='relu'))\n",
        "  \n",
        "  model.add(Dense(1, activation = 'sigmoid'))\n",
        "  model.compile(loss = 'binary_crossentropy', optimizer= 'adam', metrics = ['acc'])\n",
        "  return model"
      ],
      "metadata": {
        "id": "lkM9YttrRRop"
      },
      "execution_count": 10,
      "outputs": []
    },
    {
      "cell_type": "markdown",
      "source": [
        "##Getmodel3"
      ],
      "metadata": {
        "id": "64s5ibuzzkNg"
      }
    },
    {
      "cell_type": "code",
      "execution_count": 11,
      "metadata": {
        "id": "IxBU-Yd_QDgY"
      },
      "outputs": [],
      "source": [
        "def getModel3(input_dim):\n",
        "    model = Sequential()\n",
        "    # model._estimator_type = \"classifier\"\n",
        "    model.add(Conv2D(32, kernel_size=(1, 3), padding='same', input_shape=(*input_dim, 4)))\n",
        "    model.add(LeakyReLU(alpha=0.01))\n",
        "    model.add(Conv2D(32, kernel_size=(1, 3), padding='same'))\n",
        "    model.add(LeakyReLU(alpha=0.01))\n",
        "    model.add(Conv2D(32, kernel_size=(1, 1), padding='same'))\n",
        "    model.add(LeakyReLU(alpha=0.01))\n",
        "    model.add(BatchNormalization())\n",
        "    model.add(MaxPooling2D(pool_size=(1, 2)))\n",
        "    model.add(Conv2D(32, kernel_size=(5, 1), padding='same'))\n",
        "    model.add(LeakyReLU(alpha=0.01))\n",
        "    model.add(Conv2D(32, kernel_size=(1, 1), padding='same'))\n",
        "    model.add(LeakyReLU(alpha=0.01))\n",
        "    model.add(Conv2D(32, kernel_size=(1, 1), padding='same'))\n",
        "    model.add(LeakyReLU(alpha=0.01))\n",
        "    model.add(BatchNormalization())\n",
        "    model.add(MaxPooling2D(pool_size=(4, 1)))\n",
        "    model.add(Conv2D(64, kernel_size=(1, 3), padding='same'))\n",
        "    model.add(LeakyReLU(alpha=0.01))\n",
        "    model.add(Conv2D(64, kernel_size=(1, 3), padding='same'))\n",
        "    model.add(LeakyReLU(alpha=0.01))\n",
        "    model.add(Conv2D(64, kernel_size=(1, 1), padding='same'))\n",
        "    model.add(LeakyReLU(alpha=0.01))\n",
        "    model.add(BatchNormalization())\n",
        "    model.add(MaxPooling2D(pool_size=(1, 2)))\n",
        "    model.add(Conv2D(64, kernel_size=(5, 1), padding='same'))\n",
        "    model.add(LeakyReLU(alpha=0.01))\n",
        "    model.add(Conv2D(64, kernel_size=(5, 1), padding='same'))\n",
        "    model.add(LeakyReLU(alpha=0.01))\n",
        "    model.add(Conv2D(64, kernel_size=(1, 1), padding='same'))\n",
        "    model.add(LeakyReLU(alpha=0.01))\n",
        "    model.add(BatchNormalization())\n",
        "    model.add(MaxPooling2D(pool_size=(1, 1)))\n",
        "    model.add(Conv2D(128, kernel_size=(5, 3), padding='same'))\n",
        "    model.add(LeakyReLU(alpha=0.01))\n",
        "    model.add(Conv2D(128, kernel_size=(5, 3), padding='same'))\n",
        "    model.add(LeakyReLU(alpha=0.01))\n",
        "    model.add(Conv2D(128, kernel_size=(1, 1), padding='same'))\n",
        "    model.add(LeakyReLU(alpha=0.01))\n",
        "    model.add(BatchNormalization())\n",
        "    model.add(MaxPooling2D(pool_size=(1, 1)))\n",
        "    model.add(Conv2D(256, kernel_size=(5, 3), padding='same'))\n",
        "    model.add(LeakyReLU(alpha=0.01))\n",
        "    model.add(Conv2D(256, kernel_size=(5, 3), padding='same'))\n",
        "    model.add(LeakyReLU(alpha=0.01))\n",
        "    model.add(Conv2D(256, kernel_size=(1, 1), padding='same'))\n",
        "    model.add(LeakyReLU(alpha=0.01))\n",
        "    model.add(BatchNormalization())\n",
        "    model.add(MaxPooling2D(pool_size=(1, 1)))\n",
        "    model.add(Flatten())\n",
        "    model.add(Dense(512))\n",
        "    model.add(LeakyReLU(alpha=0.01))\n",
        "    model.add(Dropout(0.5))\n",
        "    model.add(Dense(1, kernel_regularizer=regularizers.l2(0.01), activation='sigmoid'))\n",
        "    model.summary()\n",
        "    model.compile(loss='binary_crossentropy', optimizer=Adam(lr=1e-4), metrics=['accuracy'])\n",
        "    return model"
      ]
    },
    {
      "cell_type": "markdown",
      "source": [
        "##Getmodel4"
      ],
      "metadata": {
        "id": "vbDQq5tyzush"
      }
    },
    {
      "cell_type": "code",
      "source": [
        "def getModel4(input_dim):\n",
        "    model = Sequential()\n",
        "    # model._estimator_type = \"classifier\"\n",
        "    model.add(Conv2D(32, kernel_size=(1, 3), padding='same', kernel_initializer=initializers.RandomNormal(stddev=0.05), \n",
        "                     bias_initializer=initializers.Zeros(), input_shape=(*input_dim, 4)))\n",
        "    model.add(LeakyReLU(alpha=0.01))\n",
        "    model.add(Conv2D(32, kernel_size=(1, 3), padding='same', kernel_initializer=initializers.RandomNormal(stddev=0.05), \n",
        "                     bias_initializer=initializers.Zeros()))\n",
        "    model.add(LeakyReLU(alpha=0.01))\n",
        "    model.add(Conv2D(32, kernel_size=(1, 1), padding='same', kernel_initializer=initializers.RandomNormal(stddev=0.05), \n",
        "                     bias_initializer=initializers.Zeros()))\n",
        "    model.add(LeakyReLU(alpha=0.01))\n",
        "    model.add(BatchNormalization())\n",
        "    model.add(MaxPooling2D(pool_size=(1, 2)))\n",
        "    model.add(Conv2D(32, kernel_size=(3, 1), padding='same', kernel_initializer=initializers.RandomNormal(stddev=0.05), \n",
        "                     bias_initializer=initializers.Zeros()))\n",
        "    model.add(LeakyReLU(alpha=0.01))\n",
        "    model.add(Conv2D(32, kernel_size=(3, 1), padding='same', kernel_initializer=initializers.RandomNormal(stddev=0.05), \n",
        "                     bias_initializer=initializers.Zeros()))\n",
        "    model.add(LeakyReLU(alpha=0.01))\n",
        "    model.add(Conv2D(32, kernel_size=(1, 1), padding='same', kernel_initializer=initializers.RandomNormal(stddev=0.05), \n",
        "                     bias_initializer=initializers.Zeros()))\n",
        "    model.add(LeakyReLU(alpha=0.01))\n",
        "    model.add(BatchNormalization())\n",
        "    model.add(Dense(128, activation='relu'))\n",
        "    model.add(Dense(64, activation='relu'))\n",
        "    model.add(Dropout(0.4))\n",
        "    model.add(Dense(48, activation='relu'))\n",
        "    model.add(Dropout(0.4))\n",
        "    model.add(MaxPooling2D(pool_size=(2, 1)))\n",
        "    model.add(Conv2D(64, kernel_size=(3, 3), padding='same', kernel_initializer=initializers.RandomNormal(stddev=0.05), \n",
        "                     bias_initializer=initializers.Zeros()))\n",
        "    model.add(LeakyReLU(alpha=0.01))\n",
        "    model.add(Conv2D(64, kernel_size=(3, 3), padding='same', kernel_initializer=initializers.RandomNormal(stddev=0.05), \n",
        "                     bias_initializer=initializers.Zeros()))\n",
        "    model.add(LeakyReLU(alpha=0.01))\n",
        "    model.add(Conv2D(64, kernel_size=(1, 1), padding='same', kernel_initializer=initializers.RandomNormal(stddev=0.05), \n",
        "                     bias_initializer=initializers.Zeros()))\n",
        "    model.add(LeakyReLU(alpha=0.01))\n",
        "    model.add(BatchNormalization())\n",
        "    model.add(MaxPooling2D(pool_size=(2, 1)))\n",
        "    model.add(Conv2D(64, kernel_size=(3, 3), padding='same', kernel_initializer=initializers.RandomNormal(stddev=0.05), \n",
        "                     bias_initializer=initializers.Zeros()))\n",
        "    model.add(LeakyReLU(alpha=0.01))\n",
        "    model.add(Conv2D(64, kernel_size=(3, 3), padding='same', kernel_initializer=initializers.RandomNormal(stddev=0.05), \n",
        "                     bias_initializer=initializers.Zeros()))\n",
        "    model.add(LeakyReLU(alpha=0.01))\n",
        "    model.add(Conv2D(64, kernel_size=(1, 1), padding='same', kernel_initializer=initializers.RandomNormal(stddev=0.05), \n",
        "                     bias_initializer=initializers.Zeros()))\n",
        "    model.add(LeakyReLU(alpha=0.01))\n",
        "    model.add(BatchNormalization())\n",
        "    model.add(MaxPooling2D(pool_size=(4, 2)))\n",
        "    model.add(Permute((2, 1, 3)))\n",
        "    model.add(TimeDistributed(Flatten()))\n",
        "    model.add(Bidirectional(LSTM(128, dropout=0.25, return_sequences=True)))\n",
        "    model.add(Bidirectional(LSTM(128, dropout=0.25, return_sequences=False)))\n",
        "    model.add(Flatten())\n",
        "    model.add(Dense(64))\n",
        "    model.add(Dense(1, kernel_regularizer=regularizers.l2(0.0001), activation='sigmoid'))\n",
        "    model.compile(loss='binary_crossentropy', optimizer=Adam(learning_rate=1e-4, decay=1e-6), metrics=['accuracy'])\n",
        "    model.summary()\n",
        "    return model"
      ],
      "metadata": {
        "id": "eYw7NHZJ5x1w"
      },
      "execution_count": 12,
      "outputs": []
    },
    {
      "cell_type": "markdown",
      "source": [
        "#**Output of Models**"
      ],
      "metadata": {
        "id": "mZC4rmH2oCD6"
      }
    },
    {
      "cell_type": "code",
      "source": [
        "def plotModelHist(hist):\n",
        "  print(\"Model's history Over the Epocs\")\n",
        "  sns.set()\n",
        "  acc = hist.history['accuracy']\n",
        "  val = hist.history['val_accuracy']\n",
        "  epochs = range(1, len(acc) + 1)\n",
        "  plt.plot(epochs, acc, '-', label='Training accuracy')\n",
        "  plt.plot(epochs, val, ':', label='Validation accuracy')\n",
        "  plt.title('Training and Validation Accuracy')\n",
        "  plt.xlabel('Epoch')\n",
        "  plt.ylabel('Accuracy')\n",
        "  plt.legend(loc='lower right')\n",
        "  plt.plot()\n",
        "def printConfusionMatrix(model, X_test, y_test):\n",
        "  y_predicted = model.predict(X_test) > 0.5\n",
        "  try:\n",
        "    mat = confusion_matrix(y_test, y_predicted)\n",
        "  except:\n",
        "    res = []\n",
        "    for i in range (len(y_predicted)):\n",
        "      if y_predicted[i][0] == True:\n",
        "        res.append(0)\n",
        "      else:\n",
        "        res.append(1)\n",
        "    double = False\n",
        "    y_predicted = res\n",
        "    del res\n",
        "    mat = confusion_matrix(y_test, y_predicted)\n",
        "  labels = ['Positive', 'Negative']\n",
        "  \n",
        "  sns.heatmap(mat, square=True, annot=True, fmt='d', cbar=False, cmap='Blues',\n",
        "              xticklabels=labels, yticklabels=labels)\n",
        "  \n",
        "  plt.xlabel('Predicted label')\n",
        "  plt.ylabel('Actual label')\n",
        "  return y_predicted\n",
        "def printEval(y_test, y_predicted):\n",
        "  print(\"Test Accuracy: \" , accuracy_score(y_test, y_predicted))\n",
        "  print(\"F1 Score micro: \", f1_score(y_test, y_predicted, average='micro'))\n",
        "  print(\"F1 Score weighted: \", f1_score(y_test, y_predicted, average='weighted'))\n",
        "  print(\"Recall Micro: \",recall_score(y_test, y_predicted, average='micro'))\n",
        "  print(\"Recall Weighted: \",recall_score(y_test, y_predicted, average='weighted'))\n",
        "\n"
      ],
      "metadata": {
        "id": "tCme5jRdoAsK"
      },
      "execution_count": 13,
      "outputs": []
    },
    {
      "cell_type": "markdown",
      "source": [
        "#Applying the model"
      ],
      "metadata": {
        "id": "tn31TPobeHOK"
      }
    },
    {
      "cell_type": "code",
      "execution_count": 14,
      "metadata": {
        "id": "2FQorJcpVlYU"
      },
      "outputs": [],
      "source": [
        "def applyModel(input_dim, X_train, y_train, X_val, y_val):\n",
        "  model = getModel1((160,16,4))\n",
        "  hist = model.fit(X_train, y_train , validation_data=(X_val, y_val), epochs=10, batch_size=32)\n",
        "  return hist, model"
      ]
    },
    {
      "cell_type": "markdown",
      "source": [
        "## **Dumping** The model"
      ],
      "metadata": {
        "id": "ypE_QKgAeCnC"
      }
    },
    {
      "cell_type": "code",
      "source": [
        "def dumpModel(model):\n",
        "  path = '/content/drive/My Drive/FYP/Models/'\n",
        "  pickle.dump(model, open(path + input() + '.sav', 'wb'))\n",
        "def loadModel(path):\n",
        "  return pickle.load(open(path, 'rb'))\n",
        "\n",
        "# dumpModel(model)"
      ],
      "metadata": {
        "id": "MnbI4sDxdOI9"
      },
      "execution_count": 15,
      "outputs": []
    },
    {
      "cell_type": "code",
      "source": [
        ""
      ],
      "metadata": {
        "id": "XvA4MzHt6Xoy"
      },
      "execution_count": 15,
      "outputs": []
    },
    {
      "cell_type": "markdown",
      "source": [
        "#*Implementing the code*"
      ],
      "metadata": {
        "id": "aqFaKvuipZN_"
      }
    },
    {
      "cell_type": "markdown",
      "source": [
        "Saving Keras model"
      ],
      "metadata": {
        "id": "KRNsrIJiQmAI"
      }
    },
    {
      "cell_type": "code",
      "source": [
        "# resnet50 = tf.keras.models.load_model('/content/drive/My Drive/FYP/Models/saved_model/my_model', custom_objects={'top_5_accuracy':top_5_accuracy})\n",
        "\n",
        "# # Check its architecture\n",
        "# new_model.summary()"
      ],
      "metadata": {
        "id": "T_HjdFRIPx20"
      },
      "execution_count": null,
      "outputs": []
    },
    {
      "cell_type": "code",
      "source": [
        ""
      ],
      "metadata": {
        "id": "tEv8BFmhLVCi"
      },
      "execution_count": null,
      "outputs": []
    },
    {
      "cell_type": "markdown",
      "source": [
        "Training the model"
      ],
      "metadata": {
        "id": "MMk0-DZfQu62"
      }
    },
    {
      "cell_type": "code",
      "source": [
        "hist = model.fit(X_train, y_train , validation_data=(X_val, y_val), epochs=30, batch_size=32)"
      ],
      "metadata": {
        "id": "Kx9WMXs46Ij6"
      },
      "execution_count": null,
      "outputs": []
    },
    {
      "cell_type": "markdown",
      "source": [
        "Loading Data"
      ],
      "metadata": {
        "id": "EXQGkdmgQxb0"
      }
    },
    {
      "cell_type": "code",
      "source": [
        "X_train, X_val, y_train, y_val, X_test, y_test, files, X = getData(\"/content/drive/My Drive/FYP/spectral_centroid.txt\", 'mfcc')"
      ],
      "metadata": {
        "id": "LMUyNFcMAMuZ"
      },
      "execution_count": null,
      "outputs": []
    },
    {
      "cell_type": "markdown",
      "source": [
        "Loading Different Models"
      ],
      "metadata": {
        "id": "a0lDFuBgQ0Ve"
      }
    },
    {
      "cell_type": "code",
      "source": [
        "# model2 = loadModel('/content/drive/My Drive/FYP/Models/sequential_3_mfccs_90ACC.sav')\n",
        "# model3 = loadModel('/content/drive/My Drive/FYP/Models/sequential_3_mfccs_96ACC.sav')\n",
        "# sequential3_98ACC_500outlier = loadModel('/content/drive/My Drive/FYP/Models/sequential3-98ACC-500outlier.sav')\n",
        "# resnet50 = tf.keras.models.load_model('/content/drive/My Drive/FYP/Models/saved_model/my_model', custom_objects={'top_5_accuracy':top_5_accuracy})"
      ],
      "metadata": {
        "id": "uaunjZ_6Dfdv"
      },
      "execution_count": null,
      "outputs": []
    },
    {
      "cell_type": "code",
      "source": [
        "#  model = getModel3((160, 16)) "
      ],
      "metadata": {
        "id": "T998AwKTaU4-"
      },
      "execution_count": null,
      "outputs": []
    },
    {
      "cell_type": "code",
      "source": [
        "# hist = model.fit(X_train, y_train , validation_data=(X_val, y_val), epochs=30, batch_size=32)"
      ],
      "metadata": {
        "id": "uHWXh4H9Y2HR"
      },
      "execution_count": null,
      "outputs": []
    },
    {
      "cell_type": "code",
      "source": [
        "model3_y = printConfusionMatrix(model, X_test, y_test)"
      ],
      "metadata": {
        "colab": {
          "base_uri": "https://localhost:8080/",
          "height": 284
        },
        "id": "ePLyzphlfbw1",
        "outputId": "65eac238-80bf-4ded-c968-5958011bca6f"
      },
      "execution_count": null,
      "outputs": [
        {
          "output_type": "display_data",
          "data": {
            "image/png": "[encoded data removed]",
            "text/plain": [
              "<Figure size 432x288 with 1 Axes>"
            ]
          },
          "metadata": {}
        }
      ]
    },
    {
      "cell_type": "code",
      "source": [
        "model33Y = printConfusionMatrix(model3, X_test, y_test)"
      ],
      "metadata": {
        "colab": {
          "base_uri": "https://localhost:8080/",
          "height": 284
        },
        "id": "9mQUFcYzff82",
        "outputId": "7c5a1eeb-ad32-4834-fd99-cd4bf5d717db"
      },
      "execution_count": null,
      "outputs": [
        {
          "output_type": "display_data",
          "data": {
            "image/png": "[encoded data removed]",
            "text/plain": [
              "<Figure size 432x288 with 1 Axes>"
            ]
          },
          "metadata": {}
        }
      ]
    },
    {
      "cell_type": "code",
      "source": [
        "model2Y = printConfusionMatrix(model2, X_test, y_test)"
      ],
      "metadata": {
        "colab": {
          "base_uri": "https://localhost:8080/",
          "height": 284
        },
        "id": "07o7-k4YflUJ",
        "outputId": "48624e63-4d5c-4899-8a01-d2f7d8e4cfa1"
      },
      "execution_count": null,
      "outputs": [
        {
          "output_type": "display_data",
          "data": {
            "image/png": "[encoded data removed]",
            "text/plain": [
              "<Figure size 432x288 with 1 Axes>"
            ]
          },
          "metadata": {}
        }
      ]
    },
    {
      "cell_type": "code",
      "source": [
        "sequential3_98ACC_500outlierYY =  printConfusionMatrix(sequential3_98ACC_500outlier, X_test, y_test)"
      ],
      "metadata": {
        "colab": {
          "base_uri": "https://localhost:8080/",
          "height": 284
        },
        "id": "hM1-PO0bf126",
        "outputId": "756b1015-45fc-47da-a43d-351a17fdf7d2"
      },
      "execution_count": null,
      "outputs": [
        {
          "output_type": "display_data",
          "data": {
            "image/png": "[encoded data removed]",
            "text/plain": [
              "<Figure size 432x288 with 1 Axes>"
            ]
          },
          "metadata": {}
        }
      ]
    },
    {
      "cell_type": "code",
      "source": [
        ""
      ],
      "metadata": {
        "id": "vJVjtvmogEJ5"
      },
      "execution_count": null,
      "outputs": []
    },
    {
      "cell_type": "code",
      "source": [
        "resnet50y = printConfusionMatrix(resnet50, X_test, y_test)"
      ],
      "metadata": {
        "colab": {
          "base_uri": "https://localhost:8080/",
          "height": 284
        },
        "id": "akDAUJiDf9RY",
        "outputId": "baeeaf71-586e-4686-cb63-6bf1d7b52cc8"
      },
      "execution_count": null,
      "outputs": [
        {
          "output_type": "display_data",
          "data": {
            "image/png": "[encoded data removed]",
            "text/plain": [
              "<Figure size 432x288 with 1 Axes>"
            ]
          },
          "metadata": {}
        }
      ]
    },
    {
      "cell_type": "code",
      "source": [
        "printEval(y_test, model2y_predicted)"
      ],
      "metadata": {
        "colab": {
          "base_uri": "https://localhost:8080/"
        },
        "id": "h4mtB36HQ7uX",
        "outputId": "99805e3e-97c4-4562-ed8a-8c58c5c0c701"
      },
      "execution_count": null,
      "outputs": [
        {
          "output_type": "stream",
          "name": "stdout",
          "text": [
            "Test Accuracy:  0.9638027048528242\n",
            "F1 Score micro:  0.9638027048528242\n",
            "F1 Score weighted:  0.960603810704936\n",
            "Recall Micro:  0.9638027048528242\n",
            "Recall Weighted:  0.9638027048528242\n"
          ]
        }
      ]
    },
    {
      "cell_type": "code",
      "source": [
        "model3y_predicted = printConfusionMatrix(model3, X_test, y_test)"
      ],
      "metadata": {
        "colab": {
          "base_uri": "https://localhost:8080/",
          "height": 284
        },
        "id": "VwuXli0rM-9X",
        "outputId": "52a4b378-4367-481c-e5fd-28e0d346f299"
      },
      "execution_count": null,
      "outputs": [
        {
          "output_type": "display_data",
          "data": {
            "image/png": "[encoded data removed]",
            "text/plain": [
              "<Figure size 432x288 with 1 Axes>"
            ]
          },
          "metadata": {}
        }
      ]
    },
    {
      "cell_type": "code",
      "source": [
        "printEval(y_test, model3y_predicted)"
      ],
      "metadata": {
        "colab": {
          "base_uri": "https://localhost:8080/"
        },
        "id": "NQ60_6UCRBa2",
        "outputId": "91a868b8-c40b-4c28-f155-75802ec26445"
      },
      "execution_count": null,
      "outputs": [
        {
          "output_type": "stream",
          "name": "stdout",
          "text": [
            "Test Accuracy:  0.9753381066030231\n",
            "F1 Score micro:  0.9753381066030231\n",
            "F1 Score weighted:  0.9738115373784073\n",
            "Recall Micro:  0.9753381066030231\n",
            "Recall Weighted:  0.9753381066030231\n"
          ]
        }
      ]
    },
    {
      "cell_type": "code",
      "source": [
        "sequential3_98ACC_500outliery_predicted = printConfusionMatrix(sequential3_98ACC_500outlier, X_test, y_test)"
      ],
      "metadata": {
        "colab": {
          "base_uri": "https://localhost:8080/",
          "height": 284
        },
        "id": "hUINRKR3NAc3",
        "outputId": "b2e5fe6b-1525-4014-bdfa-9f78b83e0e16"
      },
      "execution_count": null,
      "outputs": [
        {
          "output_type": "display_data",
          "data": {
            "image/png": "[encoded data removed]",
            "text/plain": [
              "<Figure size 432x288 with 1 Axes>"
            ]
          },
          "metadata": {}
        }
      ]
    },
    {
      "cell_type": "code",
      "source": [
        "printEval(y_test, sequential3_98ACC_500outliery_predicted)"
      ],
      "metadata": {
        "colab": {
          "base_uri": "https://localhost:8080/"
        },
        "id": "7yn1v7aRRCV8",
        "outputId": "a438c31d-1928-48b1-a767-677235729e7a"
      },
      "execution_count": null,
      "outputs": [
        {
          "output_type": "stream",
          "name": "stdout",
          "text": [
            "Test Accuracy:  0.9824980111376292\n",
            "F1 Score micro:  0.9824980111376292\n",
            "F1 Score weighted:  0.98194821023286\n",
            "Recall Micro:  0.9824980111376292\n",
            "Recall Weighted:  0.9824980111376292\n"
          ]
        }
      ]
    },
    {
      "cell_type": "markdown",
      "source": [
        "Majority Voting"
      ],
      "metadata": {
        "id": "OXNx2ElXQ-0w"
      }
    },
    {
      "cell_type": "code",
      "source": [
        "mat = confusion_matrix(y_test, model333y)\n",
        "labels = ['Positive', 'Negative']\n",
        "\n",
        "sns.heatmap(mat, square=True, annot=True, fmt='d', cbar=False, cmap='Blues',\n",
        "            xticklabels=labels, yticklabels=labels)\n",
        "\n",
        "plt.xlabel('Predicted label')\n",
        "plt.ylabel('Actual label')"
      ],
      "metadata": {
        "colab": {
          "base_uri": "https://localhost:8080/",
          "height": 302
        },
        "id": "zA2l6_nGhwfy",
        "outputId": "1c9fe29d-d883-49d5-cb03-6a174b538a9d"
      },
      "execution_count": null,
      "outputs": [
        {
          "output_type": "execute_result",
          "data": {
            "text/plain": [
              "Text(89.18, 0.5, 'Actual label')"
            ]
          },
          "metadata": {},
          "execution_count": 50
        },
        {
          "output_type": "display_data",
          "data": {
            "image/png": "[encoded data removed]",
            "text/plain": [
              "<Figure size 432x288 with 1 Axes>"
            ]
          },
          "metadata": {}
        }
      ]
    },
    {
      "cell_type": "code",
      "source": [
        "\n",
        "model333y = []\n",
        "for i in model3_y:\n",
        "  if i == True:\n",
        "    model333y.append(1)\n",
        "  else:\n",
        "    model333y.append(0)"
      ],
      "metadata": {
        "id": "rXvtlyM7gsKA"
      },
      "execution_count": null,
      "outputs": []
    },
    {
      "cell_type": "code",
      "source": [
        "def returnMajorityVoted(resnet50y,sequential3_98ACC_500outlierYY,model3_y):\n",
        "  final_y = []\n",
        "  for a,b,c in zip(resnet50y,sequential3_98ACC_500outlierYY,model3_y):\n",
        "    data = Counter([a,b,c])\n",
        "    final_y.append(data.most_common(1)[0][0])\n",
        "  return final_y\n",
        "def printC(y_predicted):\n",
        "  \n",
        "  mat = confusion_matrix(y_test, y_predicted)\n",
        "  labels = ['Positive', 'Negative']\n",
        "  \n",
        "  sns.heatmap(mat, square=True, annot=True, fmt='d', cbar=False, cmap='Blues',\n",
        "              xticklabels=labels, yticklabels=labels)\n",
        "  \n",
        "  plt.xlabel('Predicted label')\n",
        "  plt.ylabel('Actual label')\n",
        "final_y = returnMajorityVoted(resnet50y,sequential3_98ACC_500outlierYY,model333y)"
      ],
      "metadata": {
        "id": "hX7tQN8pNXsC"
      },
      "execution_count": null,
      "outputs": []
    },
    {
      "cell_type": "code",
      "source": [
        "printEval(y_test, final_y)"
      ],
      "metadata": {
        "colab": {
          "base_uri": "https://localhost:8080/"
        },
        "id": "6mtJ4O9Hin0S",
        "outputId": "87de8ec8-efa0-4f89-ef99-c5a1972f75e3"
      },
      "execution_count": null,
      "outputs": [
        {
          "output_type": "stream",
          "name": "stdout",
          "text": [
            "Test Accuracy:  0.9200477326968973\n",
            "F1 Score micro:  0.9200477326968973\n",
            "F1 Score weighted:  0.8868002711278378\n",
            "Recall Micro:  0.9200477326968973\n",
            "Recall Weighted:  0.9200477326968973\n"
          ]
        }
      ]
    },
    {
      "cell_type": "code",
      "source": [
        "printC(final_y)"
      ],
      "metadata": {
        "colab": {
          "base_uri": "https://localhost:8080/",
          "height": 284
        },
        "id": "YAIk1Bzmh8in",
        "outputId": "62ffffab-0f7c-44e7-a2bf-bf798fcf2054"
      },
      "execution_count": null,
      "outputs": [
        {
          "output_type": "display_data",
          "data": {
            "image/png": "[encoded data removed]",
            "text/plain": [
              "<Figure size 432x288 with 1 Axes>"
            ]
          },
          "metadata": {}
        }
      ]
    },
    {
      "cell_type": "markdown",
      "source": [
        "#--------------------------------------------::::::::::------------------------------------------------------------------------:-"
      ],
      "metadata": {
        "id": "OQJo4sOXpolR"
      }
    }
  ],
  "metadata": {
    "accelerator": "GPU",
    "colab": {
      "collapsed_sections": [
        "CaUaLzSHoJuE",
        "j4YzFXJRRPAA",
        "64s5ibuzzkNg",
        "vbDQq5tyzush",
        "mZC4rmH2oCD6",
        "ypE_QKgAeCnC"
      ],
      "name": "Covitector.ipynb",
      "provenance": []
    },
    "kernelspec": {
      "display_name": "Python 3",
      "language": "python",
      "name": "python3"
    },
    "language_info": {
      "codemirror_mode": {
        "name": "ipython",
        "version": 3
      },
      "file_extension": ".py",
      "mimetype": "text/x-python",
      "name": "python",
      "nbconvert_exporter": "python",
      "pygments_lexer": "ipython3",
      "version": "3.8.5"
    }
  },
  "nbformat": 4,
  "nbformat_minor": 0
}