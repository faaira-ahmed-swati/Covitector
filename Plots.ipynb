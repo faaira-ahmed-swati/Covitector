{
 "cells": [
  {
   "cell_type": "markdown",
   "metadata": {},
   "source": [
    "# Libraries"
   ]
  },
  {
   "cell_type": "code",
   "execution_count": null,
   "metadata": {},
   "outputs": [],
   "source": [
    "import numpy as np\n",
    "import matplotlib.pyplot as plt\n",
    "import librosa\n",
    "import os\n",
    "import sys\n",
    "import pyaudio\n",
    "import wave\n",
    "import malaya_speech\n",
    "import numpy as np\n",
    "import librosa\n",
    "from malaya_speech import Pipeline\n",
    "import matplotlib.pyplot as plt\n",
    "import IPython.display as ipd\n",
    "from pydub import AudioSegment\n",
    "from pydub.silence import split_on_silence\n",
    "import math "
   ]
  },
  {
   "cell_type": "markdown",
   "metadata": {},
   "source": [
    "# Silence Removal"
   ]
  },
  {
   "cell_type": "code",
   "execution_count": null,
   "metadata": {},
   "outputs": [],
   "source": [
    "def silence_removal():\n",
    "    y, sr = malaya_speech.load('/home/faaira/Desktop/fyp/output.wav')\n",
    "    y_ = librosa.effects.trim(y, top_db = 20)[0]\n",
    "    y_int = malaya_speech.astype.float_to_int(y)\n",
    "    audio = AudioSegment(\n",
    "        y_int.tobytes(),\n",
    "        frame_rate = sr,\n",
    "        sample_width = y_int.dtype.itemsize,\n",
    "        channels = 1\n",
    "    )\n",
    "    audio_chunks = split_on_silence(\n",
    "        audio,\n",
    "        min_silence_len = 200,\n",
    "        silence_thresh = -30,\n",
    "        keep_silence = 100,\n",
    "    )\n",
    "    y1_ = sum(audio_chunks)\n",
    "    y1_ = np.array(y1_.get_array_of_samples())\n",
    "    y1_ = malaya_speech.astype.int_to_float(y1_)\n",
    "    fig = make_subplots(\n",
    "        rows=2, cols=3,\n",
    "        subplot_titles=(\"\",\"Original Cough\",\"\", \"After 1st Silence Removal\",\"\",\"After 2nd Silence Removal\"))\n",
    "    fig.add_trace(\n",
    "        go.Scatter(y=y),\n",
    "        row=1, col=2\n",
    "    )\n",
    "    fig.add_trace(\n",
    "        go.Scatter(y=y_),\n",
    "        row=2, col=1\n",
    "    )\n",
    "    fig.add_trace(\n",
    "        go.Scatter(y=y1_),\n",
    "        row=2, col=3\n",
    "    )\n",
    "    fig.update_layout(height=600, width=1200, title_text=\"Cough Detection Algorithm\")\n",
    "    pyo.plot(fig)"
   ]
  },
  {
   "cell_type": "markdown",
   "metadata": {},
   "source": [
    "# Cough Detection"
   ]
  },
  {
   "cell_type": "code",
   "execution_count": null,
   "metadata": {},
   "outputs": [],
   "source": [
    "def cough_detect():\n",
    "    file = \"/home/faaira/Desktop/fyp/output.wav\"\n",
    "    x,fs = librosa.load(file, sr=None)\n",
    "    def segment_cough(x,fs, cough_padding=0.9,min_cough_len=0.2, th_l_multiplier = 0.1, th_h_multiplier = 2):\n",
    "        cough_mask = np.array([False]*len(x))\n",
    "\n",
    "\n",
    "        #Define hysteresis thresholds\n",
    "        rms = np.sqrt(np.mean(np.square(x)))\n",
    "        seg_th_l = th_l_multiplier * rms\n",
    "        seg_th_h =  th_h_multiplier*rms\n",
    "\n",
    "        #Segment coughs\n",
    "        coughSegments = []\n",
    "        padding = round(fs*cough_padding)\n",
    "        min_cough_samples = round(fs*min_cough_len)\n",
    "        cough_start = 0\n",
    "        cough_end = 0\n",
    "        cough_in_progress = False\n",
    "        tolerance = round(0.01*fs)\n",
    "        below_th_counter = 0\n",
    "\n",
    "        for i, sample in enumerate(x**2):\n",
    "            if cough_in_progress:\n",
    "                if sample<seg_th_l:\n",
    "                    below_th_counter += 1\n",
    "                    if below_th_counter > tolerance:\n",
    "                        cough_end = i+padding if (i+padding < len(x)) else len(x)-1\n",
    "                        cough_in_progress = False\n",
    "                        if (cough_end+1-cough_start-2*padding>min_cough_samples):\n",
    "                            coughSegments.append(x[cough_start:cough_end+1])\n",
    "                            cough_mask[cough_start:cough_end+1] = True\n",
    "                elif i == (len(x)-1):\n",
    "                    cough_end=i\n",
    "                    cough_in_progress = False\n",
    "                    if (cough_end+1-cough_start-2*padding>min_cough_samples):\n",
    "                        coughSegments.append(x[cough_start:cough_end+1])\n",
    "                else:\n",
    "                    below_th_counter = 0\n",
    "            else:\n",
    "                if sample>seg_th_h:\n",
    "                    cough_start = i-padding if (i-padding >=0) else 0\n",
    "                    cough_in_progress = True\n",
    "\n",
    "        return coughSegments, cough_mask\n",
    "\n",
    "    cough_segments, cough_mask = segment_cough(np.asarray(x),fs)  \n",
    "    fig = make_subplots(\n",
    "        rows=len(cough_segments), cols=len(cough_segments),\n",
    "        subplot_titles=(\"\",\"Original Cough\",\"\" ,\"\",\"Cough Segments\"))\n",
    "    j=2\n",
    "    k=1\n",
    "    fig.add_trace(\n",
    "        go.Scatter(y=x),\n",
    "        row=1, col=math.ceil(len(cough_segments)/2)\n",
    "    )\n",
    "    for i in range(0,len(cough_segments)):\n",
    "        if j == len(cough_segments):\n",
    "            j+=1\n",
    "        fig.add_trace(\n",
    "        go.Scatter(y=cough_segments[i]),\n",
    "        row=j, col=k\n",
    "        )\n",
    "        k+=1\n",
    "    fig.update_layout(height=800, width=1200, title_text=\"Cough Detection Algorithm\")\n",
    "    pyo.plot(fig)\n",
    "    silence_removal()"
   ]
  },
  {
   "cell_type": "markdown",
   "metadata": {},
   "source": [
    "# Recording cough"
   ]
  },
  {
   "cell_type": "code",
   "execution_count": null,
   "metadata": {},
   "outputs": [],
   "source": [
    "def record_audio():\n",
    "    CHUNK = 1024\n",
    "    FORMAT = pyaudio.paInt16\n",
    "    CHANNELS = 2\n",
    "    RATE = 44100\n",
    "    RECORD_SECONDS = 10\n",
    "    WAVE_OUTPUT_FILENAME = \"output.wav\"\n",
    "\n",
    "    p = pyaudio.PyAudio()\n",
    "\n",
    "    stream = p.open(format=FORMAT,\n",
    "                    channels=CHANNELS,\n",
    "                    rate=RATE,\n",
    "                    input=True,\n",
    "                    frames_per_buffer=CHUNK)\n",
    "\n",
    "    print(\"* recording\")\n",
    "\n",
    "    frames = []\n",
    "\n",
    "    for i in range(0, int(RATE / CHUNK * RECORD_SECONDS)):\n",
    "        data = stream.read(CHUNK)\n",
    "        frames.append(data)\n",
    "\n",
    "    print(\"* done recording\")\n",
    "\n",
    "    stream.stop_stream()\n",
    "    stream.close()\n",
    "    p.terminate()\n",
    "\n",
    "    wf = wave.open(WAVE_OUTPUT_FILENAME, 'wb')\n",
    "    wf.setnchannels(CHANNELS)\n",
    "    wf.setsampwidth(p.get_sample_size(FORMAT))\n",
    "    wf.setframerate(RATE)\n",
    "    wf.writeframes(b''.join(frames))\n",
    "    wf.close()\n",
    "    cough_detect()\n"
   ]
  },
  {
   "cell_type": "code",
   "execution_count": null,
   "metadata": {},
   "outputs": [],
   "source": [
    "record_audio()"
   ]
  },
  {
   "cell_type": "code",
   "execution_count": 2,
   "metadata": {},
   "outputs": [
    {
     "data": {
      "text/plain": [
       "True"
      ]
     },
     "execution_count": 2,
     "metadata": {},
     "output_type": "execute_result"
    }
   ],
   "source": [
    "import webbrowser\n",
    "chrome_path = '/usr/bin/google-chrome %s'\n",
    "webbrowser.get(chrome_path).open('file:///home/faaira/Desktop/info project/Unsuccessful.html')"
   ]
  },
  {
   "cell_type": "code",
   "execution_count": null,
   "metadata": {},
   "outputs": [],
   "source": []
  }
 ],
 "metadata": {
  "kernelspec": {
   "display_name": "Python 3",
   "language": "python",
   "name": "python3"
  },
  "language_info": {
   "codemirror_mode": {
    "name": "ipython",
    "version": 3
   },
   "file_extension": ".py",
   "mimetype": "text/x-python",
   "name": "python",
   "nbconvert_exporter": "python",
   "pygments_lexer": "ipython3",
   "version": "3.8.5"
  }
 },
 "nbformat": 4,
 "nbformat_minor": 4
}
